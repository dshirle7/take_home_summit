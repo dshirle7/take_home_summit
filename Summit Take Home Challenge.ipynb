{
 "cells": [
  {
   "cell_type": "markdown",
   "metadata": {},
   "source": [
    "<h2>Summit Take Home Challenge</h2>\n",
    "<h3>David Shirley</h3>\n",
    "\n",
    "With four reference files, produce a single file that contains the following fields:\n",
    "* A unique identifier\n",
    "* Last name\n",
    "* First name\n",
    "* School site\n",
    "* Race/Ethnicity\n",
    "* Gender\n",
    "* Whether the student has an IEP\n",
    "\n",
    "Submit the following:\n",
    "* Your output file\n",
    "* A brief explanation of what you chose as the unique identifier and why\n",
    "* A brief explanation of any problems you noticed in the input data\n",
    "* The methodology you used to do the task (e.g. a GitHub link, spreadsheet file, etc.) You may use any tool you wish, however the use of a programming language (such as Python) is encouraged."
   ]
  },
  {
   "cell_type": "markdown",
   "metadata": {},
   "source": [
    "<h3>Summary of Results</h3>\n",
    "\n",
    "* Included in my email, find output.tsv, which contains all fields requested\n",
    "\n",
    "* I chose to concatenate Local ID and Student ID to generate a unique ID for each student. It appeared California schools were reusing Local IDs while Washington schools were reusing Student IDs, so neither field alone would generate a unique identifier after merging the two sets of data.\n",
    "\n",
    "* Washington student race data is largely missing from this dataset, and there are a few incomplete records among Grade, Gender, and IEP status.\n",
    "\n",
    "* This work was completed exclusively with Pandas. This GitHub repository and this Juptyer Notebook serve as a record of my work for future reference, and all work was completed in its own IDE to ensure future replicability.\n",
    "\n",
    "The data used has not been uploaded to this repository."
   ]
  },
  {
   "cell_type": "code",
   "execution_count": 1,
   "metadata": {},
   "outputs": [],
   "source": [
    "# Loading the data into Pandas\n",
    "\n",
    "import pandas as pd\n",
    "\n",
    "ca_enroll = pd.read_csv(\"ca_roster.tsv\", sep=\"\\t\")\n",
    "wa_enroll = pd.read_csv(\"wa_roster.tsv\", sep=\"\\t\")\n",
    "\n",
    "ca_dem = pd.read_csv(\"ca_demographics.tsv\", sep=\"\\t\")\n",
    "wa_dem = pd.read_csv(\"wa_demographics.tsv\", sep=\"\\t\")"
   ]
  },
  {
   "cell_type": "code",
   "execution_count": 2,
   "metadata": {},
   "outputs": [
    {
     "data": {
      "text/html": [
       "<div>\n",
       "<style scoped>\n",
       "    .dataframe tbody tr th:only-of-type {\n",
       "        vertical-align: middle;\n",
       "    }\n",
       "\n",
       "    .dataframe tbody tr th {\n",
       "        vertical-align: top;\n",
       "    }\n",
       "\n",
       "    .dataframe thead th {\n",
       "        text-align: right;\n",
       "    }\n",
       "</style>\n",
       "<table border=\"1\" class=\"dataframe\">\n",
       "  <thead>\n",
       "    <tr style=\"text-align: right;\">\n",
       "      <th></th>\n",
       "      <th>local_student_id</th>\n",
       "      <th>student_id</th>\n",
       "      <th>site_name</th>\n",
       "      <th>last_name</th>\n",
       "      <th>first_name</th>\n",
       "      <th>grade</th>\n",
       "    </tr>\n",
       "  </thead>\n",
       "  <tbody>\n",
       "    <tr>\n",
       "      <td>0</td>\n",
       "      <td>4462</td>\n",
       "      <td>195500</td>\n",
       "      <td>Everest Public High School</td>\n",
       "      <td>Eaton</td>\n",
       "      <td>Donna</td>\n",
       "      <td>12</td>\n",
       "    </tr>\n",
       "    <tr>\n",
       "      <td>1</td>\n",
       "      <td>4653</td>\n",
       "      <td>274335</td>\n",
       "      <td>Everest Public High School</td>\n",
       "      <td>Cortez</td>\n",
       "      <td>Mohammod</td>\n",
       "      <td>11</td>\n",
       "    </tr>\n",
       "    <tr>\n",
       "      <td>2</td>\n",
       "      <td>4496</td>\n",
       "      <td>207235</td>\n",
       "      <td>Everest Public High School</td>\n",
       "      <td>Hays</td>\n",
       "      <td>Makenzie</td>\n",
       "      <td>11</td>\n",
       "    </tr>\n",
       "    <tr>\n",
       "      <td>3</td>\n",
       "      <td>4436</td>\n",
       "      <td>185120</td>\n",
       "      <td>Everest Public High School</td>\n",
       "      <td>Guerra</td>\n",
       "      <td>Lleyton</td>\n",
       "      <td>12</td>\n",
       "    </tr>\n",
       "    <tr>\n",
       "      <td>4</td>\n",
       "      <td>4407</td>\n",
       "      <td>178785</td>\n",
       "      <td>Everest Public High School</td>\n",
       "      <td>Wills</td>\n",
       "      <td>Davey</td>\n",
       "      <td>12</td>\n",
       "    </tr>\n",
       "  </tbody>\n",
       "</table>\n",
       "</div>"
      ],
      "text/plain": [
       "   local_student_id  student_id                   site_name last_name  \\\n",
       "0              4462      195500  Everest Public High School     Eaton   \n",
       "1              4653      274335  Everest Public High School    Cortez   \n",
       "2              4496      207235  Everest Public High School      Hays   \n",
       "3              4436      185120  Everest Public High School    Guerra   \n",
       "4              4407      178785  Everest Public High School     Wills   \n",
       "\n",
       "  first_name  grade  \n",
       "0      Donna     12  \n",
       "1   Mohammod     11  \n",
       "2   Makenzie     11  \n",
       "3    Lleyton     12  \n",
       "4      Davey     12  "
      ]
     },
     "execution_count": 2,
     "metadata": {},
     "output_type": "execute_result"
    }
   ],
   "source": [
    "ca_enroll.head()"
   ]
  },
  {
   "cell_type": "code",
   "execution_count": 3,
   "metadata": {},
   "outputs": [
    {
     "data": {
      "text/html": [
       "<div>\n",
       "<style scoped>\n",
       "    .dataframe tbody tr th:only-of-type {\n",
       "        vertical-align: middle;\n",
       "    }\n",
       "\n",
       "    .dataframe tbody tr th {\n",
       "        vertical-align: top;\n",
       "    }\n",
       "\n",
       "    .dataframe thead th {\n",
       "        text-align: right;\n",
       "    }\n",
       "</style>\n",
       "<table border=\"1\" class=\"dataframe\">\n",
       "  <thead>\n",
       "    <tr style=\"text-align: right;\">\n",
       "      <th></th>\n",
       "      <th>NAME</th>\n",
       "      <th>ID</th>\n",
       "      <th>STUDENT_NUMBER</th>\n",
       "      <th>LAST_NAME</th>\n",
       "      <th>FIRST_NAME</th>\n",
       "      <th>GRADE_LEVEL</th>\n",
       "    </tr>\n",
       "  </thead>\n",
       "  <tbody>\n",
       "    <tr>\n",
       "      <td>0</td>\n",
       "      <td>Summit Public School: Atlas</td>\n",
       "      <td>2004</td>\n",
       "      <td>999999</td>\n",
       "      <td>Shenny</td>\n",
       "      <td>Howardo</td>\n",
       "      <td>12.0</td>\n",
       "    </tr>\n",
       "    <tr>\n",
       "      <td>1</td>\n",
       "      <td>Summit Public School: Atlas</td>\n",
       "      <td>2008</td>\n",
       "      <td>86805</td>\n",
       "      <td>Sheldon</td>\n",
       "      <td>Aadam</td>\n",
       "      <td>11.0</td>\n",
       "    </tr>\n",
       "    <tr>\n",
       "      <td>2</td>\n",
       "      <td>Summit Public School: Olympus</td>\n",
       "      <td>2012</td>\n",
       "      <td>80011</td>\n",
       "      <td>Andrew</td>\n",
       "      <td>Tony</td>\n",
       "      <td>12.0</td>\n",
       "    </tr>\n",
       "    <tr>\n",
       "      <td>3</td>\n",
       "      <td>Summit Public School: Atlas</td>\n",
       "      <td>2020</td>\n",
       "      <td>86676</td>\n",
       "      <td>Forster</td>\n",
       "      <td>Adeline</td>\n",
       "      <td>11.0</td>\n",
       "    </tr>\n",
       "    <tr>\n",
       "      <td>4</td>\n",
       "      <td>Summit Public School: Atlas</td>\n",
       "      <td>2024</td>\n",
       "      <td>86806</td>\n",
       "      <td>Cummings</td>\n",
       "      <td>Kali</td>\n",
       "      <td>8.0</td>\n",
       "    </tr>\n",
       "  </tbody>\n",
       "</table>\n",
       "</div>"
      ],
      "text/plain": [
       "                            NAME    ID  STUDENT_NUMBER LAST_NAME FIRST_NAME  \\\n",
       "0    Summit Public School: Atlas  2004          999999    Shenny    Howardo   \n",
       "1    Summit Public School: Atlas  2008           86805   Sheldon      Aadam   \n",
       "2  Summit Public School: Olympus  2012           80011    Andrew       Tony   \n",
       "3    Summit Public School: Atlas  2020           86676   Forster    Adeline   \n",
       "4    Summit Public School: Atlas  2024           86806  Cummings       Kali   \n",
       "\n",
       "   GRADE_LEVEL  \n",
       "0         12.0  \n",
       "1         11.0  \n",
       "2         12.0  \n",
       "3         11.0  \n",
       "4          8.0  "
      ]
     },
     "execution_count": 3,
     "metadata": {},
     "output_type": "execute_result"
    }
   ],
   "source": [
    "wa_enroll.head()"
   ]
  },
  {
   "cell_type": "code",
   "execution_count": 4,
   "metadata": {},
   "outputs": [
    {
     "data": {
      "text/html": [
       "<div>\n",
       "<style scoped>\n",
       "    .dataframe tbody tr th:only-of-type {\n",
       "        vertical-align: middle;\n",
       "    }\n",
       "\n",
       "    .dataframe tbody tr th {\n",
       "        vertical-align: top;\n",
       "    }\n",
       "\n",
       "    .dataframe thead th {\n",
       "        text-align: right;\n",
       "    }\n",
       "</style>\n",
       "<table border=\"1\" class=\"dataframe\">\n",
       "  <thead>\n",
       "    <tr style=\"text-align: right;\">\n",
       "      <th></th>\n",
       "      <th>student_id</th>\n",
       "      <th>gender</th>\n",
       "      <th>combined_race_ethnicity</th>\n",
       "      <th>has_iep</th>\n",
       "    </tr>\n",
       "  </thead>\n",
       "  <tbody>\n",
       "    <tr>\n",
       "      <td>0</td>\n",
       "      <td>274220</td>\n",
       "      <td>M</td>\n",
       "      <td>Two or More Races</td>\n",
       "      <td>False</td>\n",
       "    </tr>\n",
       "    <tr>\n",
       "      <td>1</td>\n",
       "      <td>209085</td>\n",
       "      <td>M</td>\n",
       "      <td>White</td>\n",
       "      <td>False</td>\n",
       "    </tr>\n",
       "    <tr>\n",
       "      <td>2</td>\n",
       "      <td>208975</td>\n",
       "      <td>M</td>\n",
       "      <td>Hispanic</td>\n",
       "      <td>False</td>\n",
       "    </tr>\n",
       "    <tr>\n",
       "      <td>3</td>\n",
       "      <td>175055</td>\n",
       "      <td>F</td>\n",
       "      <td>Hispanic</td>\n",
       "      <td>False</td>\n",
       "    </tr>\n",
       "    <tr>\n",
       "      <td>4</td>\n",
       "      <td>207490</td>\n",
       "      <td>M</td>\n",
       "      <td>Hispanic</td>\n",
       "      <td>False</td>\n",
       "    </tr>\n",
       "  </tbody>\n",
       "</table>\n",
       "</div>"
      ],
      "text/plain": [
       "   student_id gender combined_race_ethnicity has_iep\n",
       "0      274220      M       Two or More Races   False\n",
       "1      209085      M                   White   False\n",
       "2      208975      M                Hispanic   False\n",
       "3      175055      F                Hispanic   False\n",
       "4      207490      M                Hispanic   False"
      ]
     },
     "execution_count": 4,
     "metadata": {},
     "output_type": "execute_result"
    }
   ],
   "source": [
    "ca_dem.head()"
   ]
  },
  {
   "cell_type": "code",
   "execution_count": 5,
   "metadata": {},
   "outputs": [
    {
     "data": {
      "text/html": [
       "<div>\n",
       "<style scoped>\n",
       "    .dataframe tbody tr th:only-of-type {\n",
       "        vertical-align: middle;\n",
       "    }\n",
       "\n",
       "    .dataframe tbody tr th {\n",
       "        vertical-align: top;\n",
       "    }\n",
       "\n",
       "    .dataframe thead th {\n",
       "        text-align: right;\n",
       "    }\n",
       "</style>\n",
       "<table border=\"1\" class=\"dataframe\">\n",
       "  <thead>\n",
       "    <tr style=\"text-align: right;\">\n",
       "      <th></th>\n",
       "      <th>ID</th>\n",
       "      <th>IEP</th>\n",
       "      <th>RACE_ETHNICITY</th>\n",
       "      <th>GENDER</th>\n",
       "    </tr>\n",
       "  </thead>\n",
       "  <tbody>\n",
       "    <tr>\n",
       "      <td>0</td>\n",
       "      <td>2004</td>\n",
       "      <td>0</td>\n",
       "      <td>Asian</td>\n",
       "      <td>X</td>\n",
       "    </tr>\n",
       "    <tr>\n",
       "      <td>1</td>\n",
       "      <td>2008</td>\n",
       "      <td>0</td>\n",
       "      <td>NaN</td>\n",
       "      <td>M</td>\n",
       "    </tr>\n",
       "    <tr>\n",
       "      <td>2</td>\n",
       "      <td>2012</td>\n",
       "      <td>0</td>\n",
       "      <td>NaN</td>\n",
       "      <td>M</td>\n",
       "    </tr>\n",
       "    <tr>\n",
       "      <td>3</td>\n",
       "      <td>2020</td>\n",
       "      <td>1</td>\n",
       "      <td>NaN</td>\n",
       "      <td>F</td>\n",
       "    </tr>\n",
       "    <tr>\n",
       "      <td>4</td>\n",
       "      <td>2024</td>\n",
       "      <td>0</td>\n",
       "      <td>NaN</td>\n",
       "      <td>F</td>\n",
       "    </tr>\n",
       "  </tbody>\n",
       "</table>\n",
       "</div>"
      ],
      "text/plain": [
       "     ID  IEP RACE_ETHNICITY GENDER\n",
       "0  2004    0          Asian      X\n",
       "1  2008    0            NaN      M\n",
       "2  2012    0            NaN      M\n",
       "3  2020    1            NaN      F\n",
       "4  2024    0            NaN      F"
      ]
     },
     "execution_count": 5,
     "metadata": {},
     "output_type": "execute_result"
    }
   ],
   "source": [
    "wa_dem.head()"
   ]
  },
  {
   "cell_type": "code",
   "execution_count": 6,
   "metadata": {},
   "outputs": [],
   "source": [
    "# Next, let's join the California tables and the Washington tables.\n",
    "\n",
    "cali = ca_enroll.merge(ca_dem, how=\"outer\", on=\"student_id\")"
   ]
  },
  {
   "cell_type": "code",
   "execution_count": 7,
   "metadata": {},
   "outputs": [],
   "source": [
    "wash = wa_enroll.merge(wa_dem, how=\"outer\", on=\"ID\")"
   ]
  },
  {
   "cell_type": "code",
   "execution_count": 8,
   "metadata": {},
   "outputs": [
    {
     "data": {
      "text/plain": [
       "local_student_id            0\n",
       "student_id                  0\n",
       "site_name                   0\n",
       "last_name                   0\n",
       "first_name                  0\n",
       "grade                       0\n",
       "gender                      1\n",
       "combined_race_ethnicity    72\n",
       "has_iep                    38\n",
       "dtype: int64"
      ]
     },
     "execution_count": 8,
     "metadata": {},
     "output_type": "execute_result"
    }
   ],
   "source": [
    "# Let's check for missing data.\n",
    "\n",
    "cali.isnull().sum()\n",
    "\n",
    "# Looks like a few missing entries..."
   ]
  },
  {
   "cell_type": "code",
   "execution_count": 9,
   "metadata": {},
   "outputs": [
    {
     "data": {
      "text/html": [
       "<div>\n",
       "<style scoped>\n",
       "    .dataframe tbody tr th:only-of-type {\n",
       "        vertical-align: middle;\n",
       "    }\n",
       "\n",
       "    .dataframe tbody tr th {\n",
       "        vertical-align: top;\n",
       "    }\n",
       "\n",
       "    .dataframe thead th {\n",
       "        text-align: right;\n",
       "    }\n",
       "</style>\n",
       "<table border=\"1\" class=\"dataframe\">\n",
       "  <thead>\n",
       "    <tr style=\"text-align: right;\">\n",
       "      <th></th>\n",
       "      <th>local_student_id</th>\n",
       "      <th>student_id</th>\n",
       "      <th>site_name</th>\n",
       "      <th>last_name</th>\n",
       "      <th>first_name</th>\n",
       "      <th>grade</th>\n",
       "      <th>gender</th>\n",
       "      <th>combined_race_ethnicity</th>\n",
       "      <th>has_iep</th>\n",
       "    </tr>\n",
       "  </thead>\n",
       "  <tbody>\n",
       "    <tr>\n",
       "      <td>1178</td>\n",
       "      <td>25179</td>\n",
       "      <td>164220</td>\n",
       "      <td>Summit Public School: Denali</td>\n",
       "      <td>Pineda</td>\n",
       "      <td>Eddie</td>\n",
       "      <td>11</td>\n",
       "      <td>NaN</td>\n",
       "      <td>White</td>\n",
       "      <td>False</td>\n",
       "    </tr>\n",
       "  </tbody>\n",
       "</table>\n",
       "</div>"
      ],
      "text/plain": [
       "      local_student_id  student_id                     site_name last_name  \\\n",
       "1178             25179      164220  Summit Public School: Denali    Pineda   \n",
       "\n",
       "     first_name  grade gender combined_race_ethnicity has_iep  \n",
       "1178      Eddie     11    NaN                   White   False  "
      ]
     },
     "execution_count": 9,
     "metadata": {},
     "output_type": "execute_result"
    }
   ],
   "source": [
    "cali[cali[\"gender\"].isnull() == True]\n",
    "\n",
    "# But no records missing from just one of the two tables."
   ]
  },
  {
   "cell_type": "code",
   "execution_count": 10,
   "metadata": {},
   "outputs": [
    {
     "data": {
      "text/plain": [
       "NAME                0\n",
       "ID                  0\n",
       "STUDENT_NUMBER      0\n",
       "LAST_NAME           0\n",
       "FIRST_NAME          0\n",
       "GRADE_LEVEL        28\n",
       "IEP                 0\n",
       "RACE_ETHNICITY    844\n",
       "GENDER              0\n",
       "dtype: int64"
      ]
     },
     "execution_count": 10,
     "metadata": {},
     "output_type": "execute_result"
    }
   ],
   "source": [
    "wash.isnull().sum()\n",
    "\n",
    "# No records missing from the merge here either.\n",
    "# A lot of race/ethnicity data is missing from the Washington set."
   ]
  },
  {
   "cell_type": "code",
   "execution_count": 11,
   "metadata": {},
   "outputs": [
    {
     "data": {
      "text/plain": [
       "274430    1\n",
       "268990    1\n",
       "168635    1\n",
       "244410    1\n",
       "271510    1\n",
       "         ..\n",
       "222510    1\n",
       "210220    1\n",
       "267560    1\n",
       "248005    1\n",
       "245760    1\n",
       "Name: student_id, Length: 3656, dtype: int64"
      ]
     },
     "execution_count": 11,
     "metadata": {},
     "output_type": "execute_result"
    }
   ],
   "source": [
    "# Let's try to use Student ID as the unique identifier\n",
    "# Compare the column count with the number of unique values\n",
    "# Just to ensure that each record has a unique Student ID\n",
    "\n",
    "cali[\"student_id\"].value_counts()"
   ]
  },
  {
   "cell_type": "code",
   "execution_count": 12,
   "metadata": {},
   "outputs": [
    {
     "data": {
      "text/plain": [
       "86713    2\n",
       "73515    2\n",
       "87119    2\n",
       "87121    2\n",
       "87123    2\n",
       "        ..\n",
       "87020    1\n",
       "87018    1\n",
       "87017    1\n",
       "87016    1\n",
       "73728    1\n",
       "Name: STUDENT_NUMBER, Length: 861, dtype: int64"
      ]
     },
     "execution_count": 12,
     "metadata": {},
     "output_type": "execute_result"
    }
   ],
   "source": [
    "# Washington's \"STUDENT_NUMBER\" field is shared\n",
    "# Likely, one or more schools there are reusing old IDs.\n",
    "\n",
    "wash[\"STUDENT_NUMBER\"].value_counts()"
   ]
  },
  {
   "cell_type": "code",
   "execution_count": 13,
   "metadata": {},
   "outputs": [
    {
     "data": {
      "text/html": [
       "<div>\n",
       "<style scoped>\n",
       "    .dataframe tbody tr th:only-of-type {\n",
       "        vertical-align: middle;\n",
       "    }\n",
       "\n",
       "    .dataframe tbody tr th {\n",
       "        vertical-align: top;\n",
       "    }\n",
       "\n",
       "    .dataframe thead th {\n",
       "        text-align: right;\n",
       "    }\n",
       "</style>\n",
       "<table border=\"1\" class=\"dataframe\">\n",
       "  <thead>\n",
       "    <tr style=\"text-align: right;\">\n",
       "      <th></th>\n",
       "      <th>NAME</th>\n",
       "      <th>ID</th>\n",
       "      <th>STUDENT_NUMBER</th>\n",
       "      <th>LAST_NAME</th>\n",
       "      <th>FIRST_NAME</th>\n",
       "      <th>GRADE_LEVEL</th>\n",
       "      <th>IEP</th>\n",
       "      <th>RACE_ETHNICITY</th>\n",
       "      <th>GENDER</th>\n",
       "    </tr>\n",
       "  </thead>\n",
       "  <tbody>\n",
       "    <tr>\n",
       "      <td>233</td>\n",
       "      <td>Summit Public School: Atlas</td>\n",
       "      <td>3564</td>\n",
       "      <td>86713</td>\n",
       "      <td>James</td>\n",
       "      <td>Sana</td>\n",
       "      <td>11.0</td>\n",
       "      <td>0</td>\n",
       "      <td>NaN</td>\n",
       "      <td>F</td>\n",
       "    </tr>\n",
       "    <tr>\n",
       "      <td>290</td>\n",
       "      <td>Summit Public School: Atlas</td>\n",
       "      <td>4124</td>\n",
       "      <td>86713</td>\n",
       "      <td>Bate</td>\n",
       "      <td>Angharad</td>\n",
       "      <td>11.0</td>\n",
       "      <td>0</td>\n",
       "      <td>NaN</td>\n",
       "      <td>F</td>\n",
       "    </tr>\n",
       "  </tbody>\n",
       "</table>\n",
       "</div>"
      ],
      "text/plain": [
       "                            NAME    ID  STUDENT_NUMBER LAST_NAME FIRST_NAME  \\\n",
       "233  Summit Public School: Atlas  3564           86713     James       Sana   \n",
       "290  Summit Public School: Atlas  4124           86713      Bate   Angharad   \n",
       "\n",
       "     GRADE_LEVEL  IEP RACE_ETHNICITY GENDER  \n",
       "233         11.0    0            NaN      F  \n",
       "290         11.0    0            NaN      F  "
      ]
     },
     "execution_count": 13,
     "metadata": {},
     "output_type": "execute_result"
    }
   ],
   "source": [
    "wash[wash[\"STUDENT_NUMBER\"] == 86713]\n",
    "\n",
    "# Sure enough, Atlas is reusing IDs\n",
    "# So Student ID alone won't work as an identifier"
   ]
  },
  {
   "cell_type": "code",
   "execution_count": 14,
   "metadata": {},
   "outputs": [
    {
     "data": {
      "text/plain": [
       "1399     5\n",
       "1507     5\n",
       "1467     5\n",
       "1434     5\n",
       "1453     5\n",
       "        ..\n",
       "25243    1\n",
       "64471    1\n",
       "25239    1\n",
       "25237    1\n",
       "36864    1\n",
       "Name: local_student_id, Length: 3041, dtype: int64"
      ]
     },
     "execution_count": 14,
     "metadata": {},
     "output_type": "execute_result"
    }
   ],
   "source": [
    "# Let's try using the ID field. Maybe that is already unique.\n",
    "\n",
    "cali[\"local_student_id\"].value_counts()"
   ]
  },
  {
   "cell_type": "code",
   "execution_count": 15,
   "metadata": {},
   "outputs": [
    {
     "data": {
      "text/html": [
       "<div>\n",
       "<style scoped>\n",
       "    .dataframe tbody tr th:only-of-type {\n",
       "        vertical-align: middle;\n",
       "    }\n",
       "\n",
       "    .dataframe tbody tr th {\n",
       "        vertical-align: top;\n",
       "    }\n",
       "\n",
       "    .dataframe thead th {\n",
       "        text-align: right;\n",
       "    }\n",
       "</style>\n",
       "<table border=\"1\" class=\"dataframe\">\n",
       "  <thead>\n",
       "    <tr style=\"text-align: right;\">\n",
       "      <th></th>\n",
       "      <th>local_student_id</th>\n",
       "      <th>student_id</th>\n",
       "      <th>site_name</th>\n",
       "      <th>last_name</th>\n",
       "      <th>first_name</th>\n",
       "      <th>grade</th>\n",
       "      <th>gender</th>\n",
       "      <th>combined_race_ethnicity</th>\n",
       "      <th>has_iep</th>\n",
       "    </tr>\n",
       "  </thead>\n",
       "  <tbody>\n",
       "    <tr>\n",
       "      <td>426</td>\n",
       "      <td>1399</td>\n",
       "      <td>189625</td>\n",
       "      <td>Summit Preparatory Charter High School</td>\n",
       "      <td>Carver</td>\n",
       "      <td>Sonia</td>\n",
       "      <td>12</td>\n",
       "      <td>F</td>\n",
       "      <td>Hispanic</td>\n",
       "      <td>False</td>\n",
       "    </tr>\n",
       "    <tr>\n",
       "      <td>528</td>\n",
       "      <td>1399</td>\n",
       "      <td>189635</td>\n",
       "      <td>Summit Preparatory Charter High School</td>\n",
       "      <td>Traynor</td>\n",
       "      <td>Isma</td>\n",
       "      <td>12</td>\n",
       "      <td>F</td>\n",
       "      <td>Hispanic</td>\n",
       "      <td>True</td>\n",
       "    </tr>\n",
       "    <tr>\n",
       "      <td>563</td>\n",
       "      <td>1399</td>\n",
       "      <td>189640</td>\n",
       "      <td>Summit Preparatory Charter High School</td>\n",
       "      <td>Combs</td>\n",
       "      <td>Jarrad</td>\n",
       "      <td>12</td>\n",
       "      <td>M</td>\n",
       "      <td>Hispanic</td>\n",
       "      <td>False</td>\n",
       "    </tr>\n",
       "    <tr>\n",
       "      <td>816</td>\n",
       "      <td>1399</td>\n",
       "      <td>189645</td>\n",
       "      <td>Summit Preparatory Charter High School</td>\n",
       "      <td>Duke</td>\n",
       "      <td>Robyn</td>\n",
       "      <td>12</td>\n",
       "      <td>M</td>\n",
       "      <td>Hispanic</td>\n",
       "      <td>False</td>\n",
       "    </tr>\n",
       "    <tr>\n",
       "      <td>837</td>\n",
       "      <td>1399</td>\n",
       "      <td>189630</td>\n",
       "      <td>Summit Preparatory Charter High School</td>\n",
       "      <td>Greenwood</td>\n",
       "      <td>Sofia</td>\n",
       "      <td>12</td>\n",
       "      <td>M</td>\n",
       "      <td>Hispanic</td>\n",
       "      <td>False</td>\n",
       "    </tr>\n",
       "  </tbody>\n",
       "</table>\n",
       "</div>"
      ],
      "text/plain": [
       "     local_student_id  student_id                               site_name  \\\n",
       "426              1399      189625  Summit Preparatory Charter High School   \n",
       "528              1399      189635  Summit Preparatory Charter High School   \n",
       "563              1399      189640  Summit Preparatory Charter High School   \n",
       "816              1399      189645  Summit Preparatory Charter High School   \n",
       "837              1399      189630  Summit Preparatory Charter High School   \n",
       "\n",
       "     last_name first_name  grade gender combined_race_ethnicity has_iep  \n",
       "426     Carver      Sonia     12      F                Hispanic   False  \n",
       "528    Traynor       Isma     12      F                Hispanic    True  \n",
       "563      Combs     Jarrad     12      M                Hispanic   False  \n",
       "816       Duke      Robyn     12      M                Hispanic   False  \n",
       "837  Greenwood      Sofia     12      M                Hispanic   False  "
      ]
     },
     "execution_count": 15,
     "metadata": {},
     "output_type": "execute_result"
    }
   ],
   "source": [
    "cali[cali[\"local_student_id\"] == 1399]\n",
    "\n",
    "# Opposite to Washington, California is reusing Local IDs."
   ]
  },
  {
   "cell_type": "code",
   "execution_count": 16,
   "metadata": {},
   "outputs": [],
   "source": [
    "# Let's try concatenating Local ID and Student ID. This will be\n",
    "# almost guaranteed to generate a unique number for each student.\n",
    "\n",
    "cali[\"ID_SN\"] = cali[\"local_student_id\"].astype(str) + \\\n",
    "                cali[\"student_id\"].astype(str)\n",
    "cali[\"ID_SN\"] = cali[\"ID_SN\"].astype('int64')"
   ]
  },
  {
   "cell_type": "code",
   "execution_count": 17,
   "metadata": {},
   "outputs": [],
   "source": [
    "wash[\"ID_SN\"] = wash[\"ID\"].astype(str) + wash[\"STUDENT_NUMBER\"].astype(str)\n",
    "wash[\"ID_SN\"] = wash[\"ID_SN\"].astype('int64')"
   ]
  },
  {
   "cell_type": "code",
   "execution_count": 18,
   "metadata": {},
   "outputs": [
    {
     "data": {
      "text/plain": [
       "50199269370    1\n",
       "50271269615    1\n",
       "16954215140    1\n",
       "49427192550    1\n",
       "4592252225     1\n",
       "              ..\n",
       "25154164100    1\n",
       "36917222785    1\n",
       "37217269120    1\n",
       "4496207235     1\n",
       "16797188100    1\n",
       "Name: ID_SN, Length: 3656, dtype: int64"
      ]
     },
     "execution_count": 18,
     "metadata": {},
     "output_type": "execute_result"
    }
   ],
   "source": [
    "# Check again for uniqueness\n",
    "\n",
    "cali[\"ID_SN\"].value_counts()"
   ]
  },
  {
   "cell_type": "code",
   "execution_count": 19,
   "metadata": {},
   "outputs": [
    {
     "data": {
      "text/plain": [
       "1167486975    1\n",
       "1872787141    1\n",
       "470080155     1\n",
       "210186909     1\n",
       "1924580324    1\n",
       "             ..\n",
       "521680221     1\n",
       "715273564     1\n",
       "1340680258    1\n",
       "1390873764    1\n",
       "218486785     1\n",
       "Name: ID_SN, Length: 1141, dtype: int64"
      ]
     },
     "execution_count": 19,
     "metadata": {},
     "output_type": "execute_result"
    }
   ],
   "source": [
    "wash[\"ID_SN\"].value_counts()\n",
    "\n",
    "# Success! We have a unique identifier for each student"
   ]
  },
  {
   "cell_type": "code",
   "execution_count": 22,
   "metadata": {},
   "outputs": [],
   "source": [
    "# Concatenate the two DataFrames into one.\n",
    "# To do this, we'll need to rename the columns so they are matching.\n",
    "\n",
    "wash = wash.rename(columns={\"LAST_NAME\": \"last_name\", \\\n",
    "                                   \"FIRST_NAME\": \"first_name\", \\\n",
    "                                   \"NAME\": \"site_name\", \\\n",
    "                                   \"GRADE_LEVEL\": \"grade\", \\\n",
    "                                   \"RACE_ETHNICITY\": \"combined_race_ethnicity\", \\\n",
    "                                   \"GENDER\": \"gender\", \\\n",
    "                                   \"IEP\": \"has_iep\"})\n",
    "\n",
    "wash[\"has_iep\"] = wash[\"has_iep\"].astype(bool)"
   ]
  },
  {
   "cell_type": "code",
   "execution_count": 23,
   "metadata": {},
   "outputs": [
    {
     "data": {
      "text/html": [
       "<div>\n",
       "<style scoped>\n",
       "    .dataframe tbody tr th:only-of-type {\n",
       "        vertical-align: middle;\n",
       "    }\n",
       "\n",
       "    .dataframe tbody tr th {\n",
       "        vertical-align: top;\n",
       "    }\n",
       "\n",
       "    .dataframe thead th {\n",
       "        text-align: right;\n",
       "    }\n",
       "</style>\n",
       "<table border=\"1\" class=\"dataframe\">\n",
       "  <thead>\n",
       "    <tr style=\"text-align: right;\">\n",
       "      <th></th>\n",
       "      <th>site_name</th>\n",
       "      <th>ID</th>\n",
       "      <th>STUDENT_NUMBER</th>\n",
       "      <th>last_name</th>\n",
       "      <th>first_name</th>\n",
       "      <th>grade</th>\n",
       "      <th>has_iep</th>\n",
       "      <th>combined_race_ethnicity</th>\n",
       "      <th>gender</th>\n",
       "      <th>ID_SN</th>\n",
       "    </tr>\n",
       "  </thead>\n",
       "  <tbody>\n",
       "    <tr>\n",
       "      <td>0</td>\n",
       "      <td>Summit Public School: Atlas</td>\n",
       "      <td>2004</td>\n",
       "      <td>999999</td>\n",
       "      <td>Shenny</td>\n",
       "      <td>Howardo</td>\n",
       "      <td>12.0</td>\n",
       "      <td>False</td>\n",
       "      <td>Asian</td>\n",
       "      <td>X</td>\n",
       "      <td>2004999999</td>\n",
       "    </tr>\n",
       "    <tr>\n",
       "      <td>1</td>\n",
       "      <td>Summit Public School: Atlas</td>\n",
       "      <td>2008</td>\n",
       "      <td>86805</td>\n",
       "      <td>Sheldon</td>\n",
       "      <td>Aadam</td>\n",
       "      <td>11.0</td>\n",
       "      <td>False</td>\n",
       "      <td>NaN</td>\n",
       "      <td>M</td>\n",
       "      <td>200886805</td>\n",
       "    </tr>\n",
       "    <tr>\n",
       "      <td>2</td>\n",
       "      <td>Summit Public School: Olympus</td>\n",
       "      <td>2012</td>\n",
       "      <td>80011</td>\n",
       "      <td>Andrew</td>\n",
       "      <td>Tony</td>\n",
       "      <td>12.0</td>\n",
       "      <td>False</td>\n",
       "      <td>NaN</td>\n",
       "      <td>M</td>\n",
       "      <td>201280011</td>\n",
       "    </tr>\n",
       "    <tr>\n",
       "      <td>3</td>\n",
       "      <td>Summit Public School: Atlas</td>\n",
       "      <td>2020</td>\n",
       "      <td>86676</td>\n",
       "      <td>Forster</td>\n",
       "      <td>Adeline</td>\n",
       "      <td>11.0</td>\n",
       "      <td>True</td>\n",
       "      <td>NaN</td>\n",
       "      <td>F</td>\n",
       "      <td>202086676</td>\n",
       "    </tr>\n",
       "    <tr>\n",
       "      <td>4</td>\n",
       "      <td>Summit Public School: Atlas</td>\n",
       "      <td>2024</td>\n",
       "      <td>86806</td>\n",
       "      <td>Cummings</td>\n",
       "      <td>Kali</td>\n",
       "      <td>8.0</td>\n",
       "      <td>False</td>\n",
       "      <td>NaN</td>\n",
       "      <td>F</td>\n",
       "      <td>202486806</td>\n",
       "    </tr>\n",
       "  </tbody>\n",
       "</table>\n",
       "</div>"
      ],
      "text/plain": [
       "                       site_name    ID  STUDENT_NUMBER last_name first_name  \\\n",
       "0    Summit Public School: Atlas  2004          999999    Shenny    Howardo   \n",
       "1    Summit Public School: Atlas  2008           86805   Sheldon      Aadam   \n",
       "2  Summit Public School: Olympus  2012           80011    Andrew       Tony   \n",
       "3    Summit Public School: Atlas  2020           86676   Forster    Adeline   \n",
       "4    Summit Public School: Atlas  2024           86806  Cummings       Kali   \n",
       "\n",
       "   grade  has_iep combined_race_ethnicity gender       ID_SN  \n",
       "0   12.0    False                   Asian      X  2004999999  \n",
       "1   11.0    False                     NaN      M   200886805  \n",
       "2   12.0    False                     NaN      M   201280011  \n",
       "3   11.0     True                     NaN      F   202086676  \n",
       "4    8.0    False                     NaN      F   202486806  "
      ]
     },
     "execution_count": 23,
     "metadata": {},
     "output_type": "execute_result"
    }
   ],
   "source": [
    "wash.head()"
   ]
  },
  {
   "cell_type": "code",
   "execution_count": 24,
   "metadata": {},
   "outputs": [],
   "source": [
    "# Now drop columns we don't need anymore\n",
    "\n",
    "cali = cali[[\"ID_SN\", \"last_name\", \"first_name\", \"site_name\", \"grade\", \\\n",
    "             \"combined_race_ethnicity\", \"gender\", \"has_iep\"]]\n",
    "\n",
    "wash = wash[[\"ID_SN\", \"last_name\", \"first_name\", \"site_name\", \"grade\", \\\n",
    "             \"combined_race_ethnicity\", \"gender\", \"has_iep\"]]"
   ]
  },
  {
   "cell_type": "code",
   "execution_count": 25,
   "metadata": {},
   "outputs": [],
   "source": [
    "# Lastly, concatenate the two.\n",
    "\n",
    "combined = pd.concat([cali, wash], axis=0)"
   ]
  },
  {
   "cell_type": "code",
   "execution_count": 26,
   "metadata": {},
   "outputs": [
    {
     "data": {
      "text/plain": [
       "ID_SN                      True\n",
       "last_name                  True\n",
       "first_name                 True\n",
       "site_name                  True\n",
       "grade                      True\n",
       "combined_race_ethnicity    True\n",
       "gender                     True\n",
       "has_iep                    True\n",
       "dtype: bool"
      ]
     },
     "execution_count": 26,
     "metadata": {},
     "output_type": "execute_result"
    }
   ],
   "source": [
    "# Double check to make sure all records made it.\n",
    "\n",
    "combined.count() == cali.count() + wash.count()"
   ]
  },
  {
   "cell_type": "code",
   "execution_count": 28,
   "metadata": {},
   "outputs": [],
   "source": [
    "# Export for submission\n",
    "\n",
    "combined.to_csv(\"output.tsv\", sep=\"\\t\")"
   ]
  }
 ],
 "metadata": {
  "kernelspec": {
   "display_name": "Python 3",
   "language": "python",
   "name": "python3"
  },
  "language_info": {
   "codemirror_mode": {
    "name": "ipython",
    "version": 3
   },
   "file_extension": ".py",
   "mimetype": "text/x-python",
   "name": "python",
   "nbconvert_exporter": "python",
   "pygments_lexer": "ipython3",
   "version": "3.7.4"
  }
 },
 "nbformat": 4,
 "nbformat_minor": 2
}
